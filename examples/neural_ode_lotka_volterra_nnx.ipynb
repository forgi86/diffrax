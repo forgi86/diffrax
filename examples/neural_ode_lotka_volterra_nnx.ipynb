{
 "cells": [
  {
   "cell_type": "markdown",
   "id": "b16dfc76-0c78-416c-9565-c0825087a06a",
   "metadata": {},
   "source": [
    "# Neural ODE"
   ]
  },
  {
   "cell_type": "markdown",
   "id": "a8768437-4934-45d8-9d34-d0783e81cf94",
   "metadata": {},
   "source": [
    "System identification on a possibly sparse dataset of autonomous ODEs"
   ]
  },
  {
   "cell_type": "code",
   "execution_count": null,
   "id": "276cbbe5-dac1-4814-807c-e50cc633b11a",
   "metadata": {},
   "outputs": [],
   "source": [
    "import time\n",
    "from tqdm import tqdm\n",
    "import diffrax\n",
    "import equinox as eqx  # https://github.com/patrick-kidger/equinox\n",
    "from flax import nnx\n",
    "import jax\n",
    "import jax.nn as jnn\n",
    "import jax.numpy as jnp\n",
    "import jax.random as jr\n",
    "import matplotlib.pyplot as plt\n",
    "import optax  # https://github.com/deepmind/optax"
   ]
  },
  {
   "cell_type": "code",
   "execution_count": null,
   "id": "a93792e1",
   "metadata": {},
   "outputs": [],
   "source": [
    "%matplotlib widget"
   ]
  },
  {
   "cell_type": "code",
   "execution_count": null,
   "id": "5bb31a86",
   "metadata": {},
   "outputs": [],
   "source": [
    "# data\n",
    "nx = 2\n",
    "dataset_size = 2_000 # number of sequences in the dataset\n",
    "seq_len = 40 # length of each sequence (number of time steps, sampling time is irregular)\n",
    "\n",
    "# model\n",
    "width=64\n",
    "depth=2\n",
    "\n",
    "# optimization\n",
    "batch_size = 32\n",
    "lr = 1e-3\n",
    "steps = 10_000\n",
    "\n",
    "# logging\n",
    "print_every = 100"
   ]
  },
  {
   "cell_type": "code",
   "execution_count": null,
   "id": "b1595e4b",
   "metadata": {},
   "outputs": [],
   "source": [
    "seed = 1234\n",
    "key = jr.PRNGKey(seed)\n",
    "ykey, tkey1, tkey2, model_key, loader_key = jr.split(key, 5)"
   ]
  },
  {
   "cell_type": "code",
   "execution_count": null,
   "id": "4b4fea1e",
   "metadata": {},
   "outputs": [],
   "source": [
    "# generate 40 irregularly-spaced time series from the Lotka-Volterra model\n",
    "\n",
    "y0 = 8*jr.uniform(ykey, (dataset_size, 2)) + 6\n",
    "\n",
    "t0 = 0\n",
    "t1 = 140 + jr.uniform(tkey1, (dataset_size,))\n",
    "ts = jr.uniform(tkey2, (dataset_size, seq_len)) * (t1[:, None] - t0) + t0\n",
    "ts = jnp.sort(ts)\n",
    "dt0 = 0.1\n",
    "params = jnp.array([0.1, 0.02, 0.4, 0.02]) \n",
    "\n",
    "def vector_field(t, y, args):\n",
    "    prey, predator = y    \n",
    "    α, β, γ, δ = args\n",
    "    d_prey = α * prey - β * prey * predator\n",
    "    d_predator = -γ * predator + δ * prey * predator\n",
    "    d_y = jnp.array([d_prey, d_predator])\n",
    "    return d_y\n",
    "\n",
    "def solve(ts, y0):\n",
    "    sol = diffrax.diffeqsolve(\n",
    "        diffrax.ODETerm(vector_field),\n",
    "        diffrax.Tsit5(),\n",
    "        ts[0],\n",
    "        ts[-1],\n",
    "        dt0,\n",
    "        y0,\n",
    "        saveat=diffrax.SaveAt(ts=ts),\n",
    "        args=params\n",
    "    )\n",
    "    return sol.ys\n",
    "\n",
    "ys = jax.vmap(solve)(ts, y0)\n",
    "\n",
    "ts.shape, ys.shape"
   ]
  },
  {
   "cell_type": "code",
   "execution_count": null,
   "id": "49d47660",
   "metadata": {},
   "outputs": [],
   "source": [
    "# normalize data\n",
    "\n",
    "mu = jnp.mean(jnp.mean(ys, axis=1), axis=0)#,\n",
    "std = jnp.mean(jnp.std(ys, axis=1), axis=0)\n",
    "ys = (ys - mu)/std"
   ]
  },
  {
   "cell_type": "code",
   "execution_count": null,
   "id": "5c1ab27e",
   "metadata": {},
   "outputs": [],
   "source": [
    "def dataloader(arrays, batch_size, *, key):\n",
    "    dataset_size = arrays[0].shape[0]\n",
    "    assert all(array.shape[0] == dataset_size for array in arrays)\n",
    "    indices = jnp.arange(dataset_size)\n",
    "    while True:\n",
    "        perm = jr.permutation(key, indices)\n",
    "        (key,) = jr.split(key, 1)\n",
    "        start = 0\n",
    "        end = batch_size\n",
    "        while end < dataset_size:\n",
    "            batch_perm = perm[start:end]\n",
    "            yield tuple(array[batch_perm] for array in arrays)\n",
    "            start = end\n",
    "            end = start + batch_size"
   ]
  },
  {
   "cell_type": "code",
   "execution_count": null,
   "id": "da4ef489",
   "metadata": {},
   "outputs": [],
   "source": [
    "train_dl = dataloader((ts, ys), batch_size, key=loader_key)"
   ]
  },
  {
   "cell_type": "code",
   "execution_count": null,
   "id": "2cdd60cf",
   "metadata": {},
   "outputs": [],
   "source": [
    "# plot some data\n",
    "plt.figure()\n",
    "plt.plot(ts[:4, :].T, ys[:4, :, 0].T, \"r--*\")\n",
    "plt.plot(ts[:4, :].T, ys[:4, :, 1].T, \"b--*\");"
   ]
  },
  {
   "cell_type": "code",
   "execution_count": null,
   "id": "f2f0a924",
   "metadata": {},
   "outputs": [],
   "source": [
    "class Func(nnx.Module):\n",
    "\n",
    "    def __init__(self, nx, rngs:nnx.Rngs):\n",
    "        self.linear1 = nnx.Linear(nx, width, rngs=rngs)\n",
    "        self.linear2 = nnx.Linear(width, width, rngs=rngs)\n",
    "        self.linear3 = nnx.Linear(width, nx, rngs=rngs)\n",
    "\n",
    "    def __call__(self, t, x, args):\n",
    "        h = nnx.gelu(self.linear1(x))\n",
    "        h = nnx.gelu(self.linear2(h))\n",
    "        dx = self.linear3(h)\n",
    "        return dx * 1e-3\n",
    "    \n",
    "class NeuralOde(nnx.Module):\n",
    "    def __init__(self, func: Func,  **kwargs):\n",
    "        super().__init__(**kwargs)\n",
    "        self.func = func\n",
    "    \n",
    "    def __call__(self, ts, y0):\n",
    "        solution = diffrax.diffeqsolve(\n",
    "            diffrax.ODETerm(self.func),\n",
    "            diffrax.Tsit5(),\n",
    "            t0=ts[0],\n",
    "            t1=ts[-1],\n",
    "            dt0=ts[1] - ts[0],\n",
    "            y0=y0,\n",
    "            stepsize_controller=diffrax.PIDController(rtol=1e-3, atol=1e-6),\n",
    "            saveat=diffrax.SaveAt(ts=ts),\n",
    "        )\n",
    "        return solution.ys"
   ]
  },
  {
   "cell_type": "code",
   "execution_count": null,
   "id": "4848d808",
   "metadata": {},
   "outputs": [],
   "source": [
    "vector_field_nn = Func(nx, rngs=nnx.Rngs(model_key)) # how to mix jax and nnx rngs?\n",
    "nnx.display(vector_field_nn)"
   ]
  },
  {
   "cell_type": "code",
   "execution_count": null,
   "id": "639ad525",
   "metadata": {},
   "outputs": [],
   "source": [
    "# x=jnp.ones((3, nx)) # (B, din)\n",
    "# y = vector_field_nn(_, jnp.ones((3, 2)), _)\n",
    "# y"
   ]
  },
  {
   "cell_type": "code",
   "execution_count": null,
   "id": "966e36f6",
   "metadata": {},
   "outputs": [],
   "source": [
    "simulator = NeuralOde(vector_field_nn) # how to mix jax and nnx rngs?\n",
    "nnx.display(simulator)"
   ]
  },
  {
   "cell_type": "code",
   "execution_count": null,
   "id": "243412cd-9f19-489f-a10e-bf0eb8bf3788",
   "metadata": {},
   "outputs": [],
   "source": [
    "ys_sim = simulator(ts[0], ys[0, 0])\n",
    "\n",
    "plt.figure()\n",
    "plt.plot(ts[0], ys_sim[:, 0], \"r*\")"
   ]
  },
  {
   "cell_type": "code",
   "execution_count": null,
   "id": "1dbbf52f",
   "metadata": {},
   "outputs": [],
   "source": [
    "def loss_fn(simulator, t, y):\n",
    "  batched_simulator = nnx.vmap(simulator)\n",
    "  y_sim = batched_simulator(t, y[:, 0, :])\n",
    "  return jnp.mean((y - y_sim)**2)\n",
    "\n",
    "loss_fn(simulator, ts, ys)"
   ]
  },
  {
   "cell_type": "code",
   "execution_count": null,
   "id": "96a9ad26",
   "metadata": {},
   "outputs": [],
   "source": [
    "loss_grad_fn = nnx.jit(nnx.value_and_grad(loss_fn))\n",
    "loss, grad = loss_grad_fn(simulator, ts, ys)"
   ]
  },
  {
   "cell_type": "code",
   "execution_count": null,
   "id": "b02665a6",
   "metadata": {},
   "outputs": [],
   "source": [
    "@nnx.jit\n",
    "def train_step(model, optimizer: nnx.Optimizer, t, y):\n",
    "  \"\"\"Train for a single step.\"\"\"\n",
    "  loss, grads = loss_grad_fn(model, t, y)\n",
    "  optimizer.update(grads)\n",
    "  return loss"
   ]
  },
  {
   "cell_type": "code",
   "execution_count": null,
   "id": "67cf30a2",
   "metadata": {},
   "outputs": [],
   "source": [
    "optimizer = nnx.Optimizer(simulator, optax.adamw(lr))"
   ]
  },
  {
   "cell_type": "code",
   "execution_count": null,
   "id": "2149e265",
   "metadata": {},
   "outputs": [],
   "source": [
    "LOSS = []\n",
    "pbar = tqdm(enumerate(train_dl), total=steps)\n",
    "for step, (ts_batch, ys_batch) in pbar:\n",
    "    loss = train_step(simulator, optimizer, ts_batch, ys_batch)\n",
    "    if step % print_every == 0:\n",
    "        pbar.set_postfix_str(f\"Step: {step}, Loss: {loss}\")\n",
    "    LOSS.append(loss)\n",
    "    if step == steps - 1:\n",
    "        break"
   ]
  },
  {
   "cell_type": "code",
   "execution_count": null,
   "id": "b007230f",
   "metadata": {},
   "outputs": [],
   "source": [
    "plt.figure()\n",
    "plt.plot(LOSS)"
   ]
  },
  {
   "cell_type": "code",
   "execution_count": null,
   "id": "7c98efdf",
   "metadata": {},
   "outputs": [],
   "source": [
    "val_ts, val_ys = next(train_dl)\n",
    "# jax.vmap(model)(val_ts, val_ys[:, 0])\n",
    "\n",
    "\n",
    "def dense_grid(ts):\n",
    "    return jnp.linspace(ts[0], ts[-1], 1000)\n",
    "\n",
    "\n",
    "val_ts_dense = jax.vmap(dense_grid)(val_ts)\n",
    "val_yhat_dense = nnx.vmap(simulator)(val_ts_dense, val_ys[:, 0])\n",
    "\n",
    "idx = 10\n",
    "plt.figure()\n",
    "plt.plot(val_ts[idx], val_ys[idx, :, 0], \"r*\")\n",
    "plt.plot(val_ts_dense[idx], val_yhat_dense[idx, :, 0], \"r\")\n",
    "\n",
    "plt.plot(val_ts[idx], val_ys[idx, :, 1], \"b*\")\n",
    "plt.plot(val_ts_dense[idx], val_yhat_dense[idx, :, 1], \"b\")"
   ]
  }
 ],
 "metadata": {
  "kernelspec": {
   "display_name": "dev",
   "language": "python",
   "name": "python3"
  },
  "language_info": {
   "codemirror_mode": {
    "name": "ipython",
    "version": 3
   },
   "file_extension": ".py",
   "mimetype": "text/x-python",
   "name": "python",
   "nbconvert_exporter": "python",
   "pygments_lexer": "ipython3",
   "version": "3.11.9"
  }
 },
 "nbformat": 4,
 "nbformat_minor": 5
}
