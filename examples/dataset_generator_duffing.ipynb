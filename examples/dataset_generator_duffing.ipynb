{
 "cells": [
  {
   "cell_type": "markdown",
   "id": "b16dfc76-0c78-416c-9565-c0825087a06a",
   "metadata": {},
   "source": [
    "# Neural ODE"
   ]
  },
  {
   "cell_type": "markdown",
   "id": "a8768437-4934-45d8-9d34-d0783e81cf94",
   "metadata": {},
   "source": [
    "System identification on a possibly sparse dataset of autonomous ODEs"
   ]
  },
  {
   "cell_type": "code",
   "execution_count": null,
   "id": "276cbbe5-dac1-4814-807c-e50cc633b11a",
   "metadata": {},
   "outputs": [],
   "source": [
    "import time\n",
    "from tqdm import tqdm\n",
    "import diffrax\n",
    "import jax\n",
    "import jax.numpy as jnp\n",
    "import jax.random as jr\n",
    "import matplotlib.pyplot as plt\n",
    "#from interpolation import ZOHInterpolation as Interpolation\n",
    "from diffrax import LinearInterpolation as Interpolation\n"
   ]
  },
  {
   "cell_type": "code",
   "execution_count": null,
   "id": "a93792e1",
   "metadata": {},
   "outputs": [],
   "source": [
    "%matplotlib widget"
   ]
  },
  {
   "cell_type": "code",
   "execution_count": null,
   "id": "b1595e4b",
   "metadata": {},
   "outputs": [],
   "source": [
    "seed = 1234\n",
    "key = jr.PRNGKey(seed)\n",
    "x0key, ukey, pkey = jr.split(key, 3) # initial state, input, system"
   ]
  },
  {
   "cell_type": "code",
   "execution_count": null,
   "id": "5bb31a86",
   "metadata": {},
   "outputs": [],
   "source": [
    "# data\n",
    "nx = 2 # number of states\n",
    "nu = 1\n",
    "dataset_size = 64 # number of sequences in the dataset\n",
    "seq_len = 10_000 # length of each sequence (number of time steps, sampling time is irregular)"
   ]
  },
  {
   "cell_type": "code",
   "execution_count": null,
   "id": "57990769",
   "metadata": {},
   "outputs": [],
   "source": [
    "def multisine(N, pmin, pmax, P, key):\n",
    "    uf = jnp.zeros((N//2 + 1,), dtype=complex)\n",
    "    for p in range(pmin, pmax):\n",
    "        key, subkey = jr.split(key)\n",
    "        uf = uf.at[p].set(jnp.exp(1j*jr.uniform(subkey, minval=0, maxval=jnp.pi*2)))\n",
    "\n",
    "    uk = jnp.fft.irfft(uf/2)\n",
    "    uk /= jnp.std(uk)\n",
    "    uk = jnp.concatenate([uk] * P)\n",
    "    return uk\n",
    "\n",
    "def multisines(N, pmin, pmax, P, batch_size, key):\n",
    "    keys = jr.split(key, batch_size)\n",
    "    uk = jax.vmap(multisine, in_axes=(None, None, None, None, 0))(N, pmin, pmax, P, keys)\n",
    "    return uk"
   ]
  },
  {
   "cell_type": "code",
   "execution_count": null,
   "id": "8d0daf49",
   "metadata": {},
   "outputs": [],
   "source": [
    "def f_xu(x, u, args):\n",
    "    \"\"\" Duffing oscillator\"\"\"\n",
    "    p, v = x # position, velocity\n",
    "    alpha, beta, delta, gamma, omega = args\n",
    "    F = u[0]   \n",
    "    #F = gamma * jnp.cos(omega * t)\n",
    "    dp = v\n",
    "    dv = -delta * v -alpha * p  -beta * p**3 + F\n",
    "    dx = jnp.array([dp, dv])\n",
    "    return dx"
   ]
  },
  {
   "cell_type": "code",
   "execution_count": null,
   "id": "4b4fea1e",
   "metadata": {},
   "outputs": [],
   "source": [
    "dt = 0.005\n",
    "ts = jnp.arange(seq_len) * dt\n",
    "\n",
    "t0 = ts[0]\n",
    "t1 = ts[-1]\n",
    "\n",
    "x0 = jr.uniform(x0key, (dataset_size, nx), minval=-1, maxval=1)\n",
    "u = multisines(seq_len, pmin=1, pmax=21, P=1, batch_size=dataset_size, key=ukey)\n",
    "u = u[..., None]\n",
    "#u = jr.uniform(ukey, (dataset_size, seq_len, nu), minval=-1, maxval=1)\n",
    "params_nominal = jnp.array([1.0, 5.0, 0.02, 8., 0.5]) \n",
    "params = params_nominal * jr.uniform(pkey, (dataset_size, params_nominal.shape[0]), minval=0.9, maxval=1.1)"
   ]
  },
  {
   "cell_type": "code",
   "execution_count": null,
   "id": "b23200e3",
   "metadata": {},
   "outputs": [],
   "source": [
    "plt.figure()\n",
    "plt.plot(u[0, :, 0])\n",
    "plt.plot(u[1, :, 0])"
   ]
  },
  {
   "cell_type": "code",
   "execution_count": null,
   "id": "089a07a1",
   "metadata": {},
   "outputs": [],
   "source": [
    "def solve_diffrax(ts, x0, u, params):\n",
    "    u_fun = Interpolation(ts=ts, ys=u)\n",
    "    def vector_field(t, y, args):\n",
    "        x = y # state rename...\n",
    "        ut = u_fun.evaluate(t)\n",
    "        dx = f_xu(x, ut, args)\n",
    "        return dx\n",
    "    \n",
    "    sol = diffrax.diffeqsolve(\n",
    "        terms=diffrax.ODETerm(vector_field),\n",
    "        #solver=diffrax.Tsit5(),\n",
    "        #solver=diffrax.Dopri5(),\n",
    "        solver=diffrax.Euler(),\n",
    "        t0=ts[0],\n",
    "        t1=ts[-1],\n",
    "        dt0=dt,\n",
    "        y0=x0,\n",
    "        saveat=diffrax.SaveAt(ts=ts),\n",
    "        #stepsize_controller=diffrax.PIDController(rtol=1e-6, atol=1e-6, jump_ts=ts),\n",
    "\n",
    "        stepsize_controller = diffrax.ConstantStepSize(),\n",
    "        #stepsize_controller=diffrax.PIDController(rtol=1e-6, atol=1e-6),\n",
    "        args=params,\n",
    "        max_steps=None\n",
    "    )\n",
    "    return sol.ys\n",
    "\n",
    "solve_diffrax(ts, x0[0], u[0], params_nominal).shape"
   ]
  },
  {
   "cell_type": "code",
   "execution_count": null,
   "id": "0f9216ad",
   "metadata": {},
   "outputs": [],
   "source": [
    "#for _ in range(10)"
   ]
  },
  {
   "cell_type": "code",
   "execution_count": null,
   "id": "5b2d9af4",
   "metadata": {},
   "outputs": [],
   "source": [
    "# simulate with randomized initial states and inputs, but nominal parameters\n",
    "x = jax.jit(jax.vmap(solve_diffrax, in_axes=(None, 0, 0, 0)))(ts, x0, u, params)\n",
    "x.shape"
   ]
  },
  {
   "cell_type": "code",
   "execution_count": null,
   "id": "17bebe20",
   "metadata": {},
   "outputs": [],
   "source": [
    "# plot some data\n",
    "plt.figure()\n",
    "plt.plot(ts.T, x[:1, :, 0].T, \"r\", label=\"p\")\n",
    "plt.plot(ts.T, x[:1, :, 1].T, \"b\", label=\"v\")\n",
    "plt.legend()"
   ]
  },
  {
   "cell_type": "code",
   "execution_count": null,
   "id": "ac21f8a6",
   "metadata": {},
   "outputs": [],
   "source": [
    "def discretize_euler(fun_ct, dt):\n",
    "    def fun_rk(x, u, args):\n",
    "        dt2 = dt/2\n",
    "        k1 = fun_ct(x, u, args)\n",
    "        k2 = fun_ct(x + dt2 * k1, u, args)\n",
    "        k3 = fun_ct(x + dt2 * k2, u, args)\n",
    "        k4 = fun_ct(x + dt * k3, u, args)\n",
    "        dx = dt / 6.0 * (k1 + 2.0 * k2 + 2.0 * k3 + k4)\n",
    "        x_new = x + dx\n",
    "        return x_new, x\n",
    "    return fun_rk\n",
    "\n",
    "def discretize_euler(fun_ct, dt):\n",
    "    def fun_euler(x, u, args):\n",
    "        k1 = fun_ct(x, u, args)\n",
    "        dx = dt * k1\n",
    "        x_new = x + dx\n",
    "        return x_new, x\n",
    "    return fun_euler\n",
    "\n",
    "def solve_dt(fn_ct, ts, x0, u, args):\n",
    "    #fn_rk = discretize_euler(fn_ct, ts)\n",
    "    fn_dt = discretize_euler(fn_ct, ts)\n",
    "    _, x_sim = jax.lax.scan(lambda x, u: fn_dt(x, u, args), x0, u)\n",
    "    return x_sim\n",
    "\n",
    "solve_dt_batch = jax.vmap(solve_dt, in_axes=(None, None, 0, 0, 0))\n",
    "\n",
    "x_rk4 = solve_dt_batch(f_xu, dt, x0, u, params)"
   ]
  },
  {
   "cell_type": "code",
   "execution_count": null,
   "id": "820f8f88",
   "metadata": {},
   "outputs": [],
   "source": [
    "idx = 3\n",
    "fix, ax = plt.subplots(1, 2, figsize=(12, 4))\n",
    "\n",
    "ax[0].plot(x[idx, :, 0], \"k\")\n",
    "ax[0].plot(x_rk4[idx, :, 0], \"b\")\n",
    "ax[0].plot(x[idx,  :, 0] - x_rk4[idx, :, 0], \"r\")\n",
    "\n",
    "ax[1].plot(x[idx, :, 1])\n",
    "ax[1].plot(x_rk4[idx, :, 1])\n",
    "ax[1].plot(x[idx, :, 1] - x_rk4[idx, :, 1], \"r\")"
   ]
  }
 ],
 "metadata": {
  "kernelspec": {
   "display_name": "dev",
   "language": "python",
   "name": "python3"
  },
  "language_info": {
   "codemirror_mode": {
    "name": "ipython",
    "version": 3
   },
   "file_extension": ".py",
   "mimetype": "text/x-python",
   "name": "python",
   "nbconvert_exporter": "python",
   "pygments_lexer": "ipython3",
   "version": "3.11.9"
  }
 },
 "nbformat": 4,
 "nbformat_minor": 5
}
