{
 "cells": [
  {
   "cell_type": "markdown",
   "id": "b16dfc76-0c78-416c-9565-c0825087a06a",
   "metadata": {},
   "source": [
    "# Neural ODE"
   ]
  },
  {
   "cell_type": "markdown",
   "id": "a8768437-4934-45d8-9d34-d0783e81cf94",
   "metadata": {},
   "source": [
    "System identification on a possibly sparse dataset of autonomous ODEs"
   ]
  },
  {
   "cell_type": "code",
   "execution_count": null,
   "id": "276cbbe5-dac1-4814-807c-e50cc633b11a",
   "metadata": {},
   "outputs": [],
   "source": [
    "import time\n",
    "from tqdm import tqdm\n",
    "import diffrax\n",
    "import jax\n",
    "import jax.numpy as jnp\n",
    "import jax.random as jr\n",
    "import matplotlib.pyplot as plt\n",
    "#from interpolation import ZOHInterpolation as Interpolation\n",
    "from diffrax import LinearInterpolation as Interpolation\n"
   ]
  },
  {
   "cell_type": "code",
   "execution_count": null,
   "id": "a93792e1",
   "metadata": {},
   "outputs": [],
   "source": [
    "%matplotlib widget"
   ]
  },
  {
   "cell_type": "code",
   "execution_count": null,
   "id": "b1595e4b",
   "metadata": {},
   "outputs": [],
   "source": [
    "seed = 1234\n",
    "key = jr.PRNGKey(seed)"
   ]
  },
  {
   "cell_type": "code",
   "execution_count": null,
   "id": "4b4fea1e",
   "metadata": {},
   "outputs": [],
   "source": [
    "@jax.jit\n",
    "def generate_batch(key, seq_len=1_000, batch_size=32, K=10):\n",
    "\n",
    "    nx = 2 # number of states\n",
    "    nu = 1\n",
    "    dt0 = 1e-1\n",
    "    x0key, ukey, pkey = jr.split(key, 3) # initial state, input, system\n",
    "    ts = jnp.arange(seq_len) * dt0\n",
    "    dt0 = ts[1] - ts[0]\n",
    "\n",
    "    batch_x0 = jr.uniform(x0key, (batch_size, K, nx), minval=-1, maxval=1)\n",
    "    batch_u = jr.uniform(ukey, (batch_size, K, seq_len, nu), minval=-1, maxval=1)\n",
    "    params_nominal = jnp.array([1, 0.1]) \n",
    "    params = params_nominal * jr.uniform(pkey, (batch_size, 2), minval=0.9, maxval=1.1) # each parameter +/- 10%\n",
    "\n",
    "    def f_xu(x, u, args):\n",
    "        \"\"\" Toy system: point mass with friction and force\"\"\"\n",
    "        p, v = x # position, velocity\n",
    "        F, = u # or F = u[0]    \n",
    "        M, b = args\n",
    "        dp = v\n",
    "        dv = -b/M * v + 1/M * F\n",
    "        dx = jnp.array([dp, dv])\n",
    "        return dx\n",
    "\n",
    "    def solve(ts, x0, u, params):\n",
    "        u_fun = Interpolation(ts=ts, ys=u)\n",
    "        def vector_field(t, y, args):\n",
    "            x = y # state rename...\n",
    "            ut = u_fun.evaluate(t)\n",
    "            dx = f_xu(x, ut, args)\n",
    "            return dx\n",
    "        \n",
    "        sol = diffrax.diffeqsolve(\n",
    "            terms=diffrax.ODETerm(vector_field),\n",
    "            solver=diffrax.Tsit5(),\n",
    "            t0=ts[0],\n",
    "            t1=ts[-1],\n",
    "            dt0=dt0,\n",
    "            y0=x0,\n",
    "            saveat=diffrax.SaveAt(ts=ts),\n",
    "            args=params,\n",
    "            max_steps=seq_len\n",
    "        )\n",
    "        return sol.ys\n",
    "\n",
    "    solve_reps = jax.vmap(solve, in_axes=(None, 0, 0, None)) # solve K repetitions for one system\n",
    "    solve_meta = jax.vmap(solve_reps, in_axes=(None, 0, 0, 0)) # solve meta_batch_size systems, K repetitions each\n",
    "    batch_x = solve_meta(ts, batch_x0, batch_u, params)\n",
    "       \n",
    "    return batch_x, batch_u, params \n",
    "\n",
    "def generate_batches(key):\n",
    "    while(True):\n",
    "        key, subkey = jr.split(key, 2)\n",
    "        yield generate_batch(subkey)"
   ]
  },
  {
   "cell_type": "code",
   "execution_count": null,
   "id": "2c6dfbb4",
   "metadata": {},
   "outputs": [],
   "source": [
    "train_dl = generate_batches(key)\n",
    "for idx, (batch_x, batch_u, batch_params) in tqdm(enumerate(train_dl)):\n",
    "    if idx == 50:\n",
    "        break\n",
    "\n",
    "batch_u.shape"
   ]
  },
  {
   "cell_type": "code",
   "execution_count": null,
   "id": "00d30da7",
   "metadata": {},
   "outputs": [],
   "source": [
    "batch_idx = 10\n",
    "rep_idx = 3\n",
    "x = batch_x[batch_idx][rep_idx]\n",
    "u = batch_u[batch_idx][rep_idx]\n",
    "params = batch_params[batch_idx]\n",
    "x0 = x[0]\n",
    "\n",
    "import scipy\n",
    "\n",
    "dt0 = 1e-1\n",
    "seq_len=1_000; batch_size=32; K=10\n",
    "ts = jnp.arange(seq_len) * dt0\n",
    "\n",
    "\n",
    "def f_xu(x, u, args):\n",
    "    \"\"\" Toy system: point mass with friction and force\"\"\"\n",
    "    p, v = x # position, velocity\n",
    "    F, = u # or F = u[0]    \n",
    "    M, b = args\n",
    "    dp = v\n",
    "    dv = -b/M * v + 1/M * F\n",
    "    dx = jnp.array([dp, dv])\n",
    "    return dx\n",
    "\n",
    "u_fun = Interpolation(ts=ts, ys=u)\n",
    "\n",
    "def fun(t, y, args):\n",
    "    x = y # state rename...\n",
    "    ut = u_fun.evaluate(t)\n",
    "    dx = f_xu(x, ut, args)\n",
    "    return dx\n",
    "        \n",
    "out = scipy.integrate.solve_ivp(fun, t_span=(ts[0], ts[-1]), y0=x0, method='RK45', t_eval=ts, dense_output=False, args=(params,), max_step=dt0)\n",
    "x_scipy = out.y.T\n",
    "\n",
    "fix, ax = plt.subplots(1, 2, figsize=(12, 4))\n",
    "ax[0].plot(x[:, 0])\n",
    "ax[0].plot(x_scipy[:, 0])\n",
    "ax[0].plot(x[:, 0] - x_scipy[:, 0])\n",
    "ax[1].plot(x[:, 1])\n",
    "ax[1].plot(x_scipy[:, 1])\n",
    "ax[1].plot(x[:, 1] - x_scipy[:, 1])"
   ]
  }
 ],
 "metadata": {
  "kernelspec": {
   "display_name": "dev",
   "language": "python",
   "name": "python3"
  },
  "language_info": {
   "codemirror_mode": {
    "name": "ipython",
    "version": 3
   },
   "file_extension": ".py",
   "mimetype": "text/x-python",
   "name": "python",
   "nbconvert_exporter": "python",
   "pygments_lexer": "ipython3",
   "version": "3.11.9"
  }
 },
 "nbformat": 4,
 "nbformat_minor": 5
}
