{
 "cells": [
  {
   "cell_type": "markdown",
   "id": "b16dfc76-0c78-416c-9565-c0825087a06a",
   "metadata": {},
   "source": [
    "# Neural ODE"
   ]
  },
  {
   "cell_type": "markdown",
   "id": "a8768437-4934-45d8-9d34-d0783e81cf94",
   "metadata": {},
   "source": [
    "System identification on a possibly sparse dataset of autonomous ODEs"
   ]
  },
  {
   "cell_type": "code",
   "execution_count": null,
   "id": "276cbbe5-dac1-4814-807c-e50cc633b11a",
   "metadata": {},
   "outputs": [],
   "source": [
    "import time\n",
    "from tqdm import tqdm\n",
    "import diffrax\n",
    "import equinox as eqx  # https://github.com/patrick-kidger/equinox\n",
    "import jax\n",
    "from flax import linen as nn\n",
    "from typing import Sequence, Dict, Any\n",
    "import jax.nn as jnn\n",
    "import jax.numpy as jnp\n",
    "import jax.random as jr\n",
    "import matplotlib.pyplot as plt\n",
    "import optax  # https://github.com/deepmind/optax"
   ]
  },
  {
   "cell_type": "code",
   "execution_count": null,
   "id": "a93792e1",
   "metadata": {},
   "outputs": [],
   "source": [
    "%matplotlib widget"
   ]
  },
  {
   "cell_type": "code",
   "execution_count": null,
   "id": "5bb31a86",
   "metadata": {},
   "outputs": [],
   "source": [
    "# data\n",
    "nx = 2\n",
    "dataset_size = 2_000  # number of sequences in the dataset\n",
    "seq_len = (\n",
    "    40  # length of each sequence (number of time steps, sampling time is irregular)\n",
    ")\n",
    "\n",
    "# model\n",
    "width_size = 64\n",
    "depth = 2\n",
    "\n",
    "# optimization\n",
    "batch_size = 32\n",
    "lr = 1e-3\n",
    "steps = 10_000\n",
    "\n",
    "# logging\n",
    "print_every = 100"
   ]
  },
  {
   "cell_type": "code",
   "execution_count": null,
   "id": "b1595e4b",
   "metadata": {},
   "outputs": [],
   "source": [
    "seed = 1234\n",
    "key = jr.PRNGKey(seed)\n",
    "ykey, tkey1, tkey2, model_key, loader_key = jr.split(key, 5)"
   ]
  },
  {
   "cell_type": "code",
   "execution_count": null,
   "id": "4b4fea1e",
   "metadata": {},
   "outputs": [],
   "source": [
    "# generate 40 irregularly-spaced time series from the Lotka-Volterra model\n",
    "\n",
    "y0 = 8 * jr.uniform(ykey, (dataset_size, 2)) + 6\n",
    "\n",
    "t0 = 0\n",
    "t1 = 140 + jr.uniform(tkey1, (dataset_size,))\n",
    "ts = jr.uniform(tkey2, (dataset_size, seq_len)) * (t1[:, None] - t0) + t0\n",
    "ts = jnp.sort(ts)\n",
    "dt0 = 0.1\n",
    "args = jnp.array([0.1, 0.02, 0.4, 0.02])\n",
    "\n",
    "\n",
    "def vector_field(t, y, args):\n",
    "    prey, predator = y\n",
    "    α, β, γ, δ = args\n",
    "    d_prey = α * prey - β * prey * predator\n",
    "    d_predator = -γ * predator + δ * prey * predator\n",
    "    d_y = jnp.array([d_prey, d_predator])\n",
    "    return d_y\n",
    "\n",
    "\n",
    "def solve(ts, y0):\n",
    "    sol = diffrax.diffeqsolve(\n",
    "        diffrax.ODETerm(vector_field),\n",
    "        diffrax.Tsit5(),\n",
    "        ts[0],\n",
    "        ts[-1],\n",
    "        dt0,\n",
    "        y0,\n",
    "        saveat=diffrax.SaveAt(ts=ts),\n",
    "        args=args,\n",
    "    )\n",
    "    return sol.ys\n",
    "\n",
    "\n",
    "ys = jax.vmap(solve)(ts, y0)\n",
    "\n",
    "ts.shape, ys.shape"
   ]
  },
  {
   "cell_type": "code",
   "execution_count": null,
   "id": "49d47660",
   "metadata": {},
   "outputs": [],
   "source": [
    "# normalize data\n",
    "\n",
    "# mu = jnp.mean(jnp.mean(ys, axis=1), axis=0)#,\n",
    "# std = jnp.mean(jnp.std(ys, axis=1), axis=0)\n",
    "# ys = (ys - mu)/std"
   ]
  },
  {
   "cell_type": "code",
   "execution_count": null,
   "id": "2cdd60cf",
   "metadata": {},
   "outputs": [],
   "source": [
    "# plot some data\n",
    "plt.figure()\n",
    "plt.plot(ts[:4, :].T, ys[:4, :, 0].T, \"r--*\")\n",
    "plt.plot(ts[:4, :].T, ys[:4, :, 1].T, \"b--*\")"
   ]
  },
  {
   "cell_type": "code",
   "execution_count": null,
   "id": "84d13495",
   "metadata": {},
   "outputs": [],
   "source": [
    "class MLP(nn.Module):\n",
    "    features: Sequence[int]\n",
    "    layer_kwargs: Dict[str, Any] = None\n",
    "\n",
    "    def setup(self):\n",
    "        layer_kwargs = self.layer_kwargs if self.layer_kwargs is not None else {}\n",
    "        self.layers = [nn.Dense(feat, **layer_kwargs) for feat in self.features]\n",
    "\n",
    "    def __call__(self, inputs):\n",
    "        x = inputs\n",
    "        for i, lyr in enumerate(self.layers):\n",
    "            x = lyr(x)\n",
    "            if i != len(self.layers) - 1:\n",
    "                x = nn.tanh(x)\n",
    "        return x"
   ]
  },
  {
   "cell_type": "code",
   "execution_count": null,
   "id": "4848d808",
   "metadata": {},
   "outputs": [],
   "source": [
    "model = MLP(features=[width_size] * depth + [nx],\n",
    "             layer_kwargs={\"kernel_init\": jax.nn.initializers.normal(stddev=1e-2)}\n",
    ")\n",
    "y, params = model.init_with_output(jax.random.key(0), jnp.ones(nx))\n",
    "y.shape"
   ]
  },
  {
   "cell_type": "code",
   "execution_count": null,
   "id": "5d1ceca4",
   "metadata": {},
   "outputs": [],
   "source": [
    "def vector_field_nn(t, y, params):\n",
    "    return model.apply(params, y)\n",
    "\n",
    "\n",
    "vector_field_nn(0, jnp.ones(nx), params).shape"
   ]
  },
  {
   "cell_type": "code",
   "execution_count": null,
   "id": "243412cd-9f19-489f-a10e-bf0eb8bf3788",
   "metadata": {},
   "outputs": [],
   "source": [
    "def simulate(params, ts, y0):\n",
    "    sol = diffrax.diffeqsolve(\n",
    "        diffrax.ODETerm(vector_field_nn),\n",
    "        diffrax.Tsit5(),\n",
    "        ts[0],\n",
    "        ts[-1],\n",
    "        dt0,\n",
    "        y0,\n",
    "        saveat=diffrax.SaveAt(ts=ts),\n",
    "        args=params,\n",
    "    )\n",
    "    return sol.ys\n",
    "\n",
    "\n",
    "ys_sim = simulate(params, ts[0], y0[0])\n",
    "\n",
    "plt.figure()\n",
    "plt.plot(ts[0], ys_sim[:, 0], \"r*\")"
   ]
  },
  {
   "cell_type": "code",
   "execution_count": null,
   "id": "e9fda5e8",
   "metadata": {},
   "outputs": [],
   "source": [
    "batched_sim = jax.vmap(simulate, in_axes=(None, 0, 0))\n",
    "ys_sim = batched_sim(params, ts, ys[:, 0])\n",
    "# plt.figure()\n",
    "# plt.plot(ts[0], ys_sim[0, :, 0], \"r*\")"
   ]
  },
  {
   "cell_type": "code",
   "execution_count": null,
   "id": "5d339f2a",
   "metadata": {},
   "outputs": [],
   "source": [
    "def loss_fn(params, ts, ys):\n",
    "    batched_sim = jax.vmap(simulate, in_axes=(None, 0, 0))\n",
    "    ys_sim = batched_sim(params, ts, ys[:, 0, :])\n",
    "    return jnp.mean((ys - ys_sim) ** 2)\n",
    "\n",
    "\n",
    "loss_fn(params, ts, ys)"
   ]
  },
  {
   "cell_type": "code",
   "execution_count": null,
   "id": "5865b498",
   "metadata": {},
   "outputs": [],
   "source": [
    "loss_grad_fn = jax.jit(jax.value_and_grad(loss_fn))\n",
    "\n",
    "loss, grad = loss_grad_fn(params, ts, ys)"
   ]
  },
  {
   "cell_type": "code",
   "execution_count": null,
   "id": "cf9c20e3",
   "metadata": {},
   "outputs": [],
   "source": [
    "loss, grad"
   ]
  }
 ],
 "metadata": {
  "kernelspec": {
   "display_name": "dev",
   "language": "python",
   "name": "python3"
  },
  "language_info": {
   "codemirror_mode": {
    "name": "ipython",
    "version": 3
   },
   "file_extension": ".py",
   "mimetype": "text/x-python",
   "name": "python",
   "nbconvert_exporter": "python",
   "pygments_lexer": "ipython3",
   "version": "3.11.9"
  }
 },
 "nbformat": 4,
 "nbformat_minor": 5
}
