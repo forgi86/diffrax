{
 "cells": [
  {
   "cell_type": "markdown",
   "id": "b16dfc76-0c78-416c-9565-c0825087a06a",
   "metadata": {},
   "source": [
    "# Neural ODE"
   ]
  },
  {
   "cell_type": "markdown",
   "id": "a8768437-4934-45d8-9d34-d0783e81cf94",
   "metadata": {},
   "source": [
    "System identification on a possibly sparse dataset of autonomous ODEs"
   ]
  },
  {
   "cell_type": "code",
   "execution_count": null,
   "id": "276cbbe5-dac1-4814-807c-e50cc633b11a",
   "metadata": {},
   "outputs": [],
   "source": [
    "import time\n",
    "from tqdm import tqdm\n",
    "import diffrax\n",
    "import jax\n",
    "import jax.numpy as jnp\n",
    "import jax.random as jr\n",
    "import matplotlib.pyplot as plt\n",
    "from interpolation import ZOHInterpolation\n"
   ]
  },
  {
   "cell_type": "code",
   "execution_count": null,
   "id": "a93792e1",
   "metadata": {},
   "outputs": [],
   "source": [
    "%matplotlib widget"
   ]
  },
  {
   "cell_type": "code",
   "execution_count": null,
   "id": "b1595e4b",
   "metadata": {},
   "outputs": [],
   "source": [
    "seed = 1234\n",
    "key = jr.PRNGKey(seed)\n",
    "x0key, ukey, pkey = jr.split(key, 3) # initial state, input, system"
   ]
  },
  {
   "cell_type": "code",
   "execution_count": null,
   "id": "5bb31a86",
   "metadata": {},
   "outputs": [],
   "source": [
    "# data\n",
    "nx = 2 # number of states\n",
    "nu = 1\n",
    "meta_batch_size = 32 # number of sequences in the dataset\n",
    "K = 10 # rea\n",
    "seq_len = 1024 # length of each sequence (number of time steps, sampling time is irregular)"
   ]
  },
  {
   "cell_type": "code",
   "execution_count": null,
   "id": "4b4fea1e",
   "metadata": {},
   "outputs": [],
   "source": [
    "t0 = 0\n",
    "t1 = 140\n",
    "ts = jnp.linspace(t0, t1, seq_len)\n",
    "dt0 = 0.1\n",
    "\n",
    "x0 = jr.uniform(x0key, (meta_batch_size, K, nx))\n",
    "u = jr.uniform(ukey, (meta_batch_size, K, seq_len, nu), minval=-1, maxval=1)\n",
    "params_nominal = jnp.array([1, 0.1]) \n",
    "params = params_nominal * jr.uniform(pkey, (meta_batch_size, 2), minval=0.9, maxval=1.1)\n",
    "\n",
    "def f_xu(x, u, args):\n",
    "    \"\"\" Toy system: point mass with friction and force\"\"\"\n",
    "    p, v = x # position, velocity\n",
    "    F = u[0]    \n",
    "    M, b = args\n",
    "    dp = v\n",
    "    dv = -b/M * v + 1/M * F\n",
    "    dx = jnp.array([dp, dv])\n",
    "    return dx\n",
    "\n",
    "#f_xu(jnp.zeros(nx), jnp.zeros(nu), params)\n"
   ]
  },
  {
   "cell_type": "code",
   "execution_count": null,
   "id": "089a07a1",
   "metadata": {},
   "outputs": [],
   "source": [
    "def solve(ts, x0, u, params):\n",
    "    u_fun = ZOHInterpolation(ts=ts, ys=u)\n",
    "    def vector_field(t, y, args):\n",
    "        x = y # state rename...\n",
    "        ut = u_fun.evaluate(t)\n",
    "        dx = f_xu(x, ut, args)\n",
    "        return dx\n",
    "    \n",
    "    sol = diffrax.diffeqsolve(\n",
    "        terms=diffrax.ODETerm(vector_field),\n",
    "        solver=diffrax.Tsit5(),\n",
    "        t0=ts[0],\n",
    "        t1=ts[-1],\n",
    "        dt0=dt0,\n",
    "        y0=x0,\n",
    "        saveat=diffrax.SaveAt(ts=ts),\n",
    "        args=params\n",
    "    )\n",
    "    return sol.ys\n",
    "\n",
    "solve(ts, x0[0][0], u[0][0], params_nominal).shape"
   ]
  },
  {
   "cell_type": "code",
   "execution_count": null,
   "id": "5b2d9af4",
   "metadata": {},
   "outputs": [],
   "source": [
    "# simulate with randomized initial states and inputs, but nominal parameters\n",
    "solve_reps = jax.vmap(solve, in_axes=(None, 0, 0, None)) # solve K repetitions for one system\n",
    "solve_meta = jax.vmap(solve_reps, in_axes=(None, 0, 0, 0)) # solve meta_batch_size systems, K repetitions each\n",
    "ys = solve_meta(ts, x0, u, params)\n",
    "ys.shape"
   ]
  },
  {
   "cell_type": "code",
   "execution_count": null,
   "id": "17bebe20",
   "metadata": {},
   "outputs": [],
   "source": [
    "# plot some data\n",
    "plt.figure()\n",
    "plt.plot(ts.T, ys[:4, :, 0].T, \"r\")\n",
    "plt.plot(ts.T, ys[:4, :, 1].T, \"b\");"
   ]
  },
  {
   "cell_type": "code",
   "execution_count": null,
   "id": "46e689ee",
   "metadata": {},
   "outputs": [],
   "source": [
    "# simulate with randomized initial states, inputs, and systems\n",
    "ys = jax.vmap(solve, in_axes=(None, 0, 0, 0))(ts, x0, u, params)\n",
    "ys.shape"
   ]
  },
  {
   "cell_type": "code",
   "execution_count": null,
   "id": "4811c2a4",
   "metadata": {},
   "outputs": [],
   "source": [
    "# plot some data\n",
    "plt.figure()\n",
    "plt.plot(ts.T, ys[:4, :, 0].T, \"r\")\n",
    "plt.plot(ts.T, ys[:4, :, 1].T, \"b\");"
   ]
  }
 ],
 "metadata": {
  "kernelspec": {
   "display_name": "dev",
   "language": "python",
   "name": "python3"
  },
  "language_info": {
   "codemirror_mode": {
    "name": "ipython",
    "version": 3
   },
   "file_extension": ".py",
   "mimetype": "text/x-python",
   "name": "python",
   "nbconvert_exporter": "python",
   "pygments_lexer": "ipython3",
   "version": "3.11.9"
  }
 },
 "nbformat": 4,
 "nbformat_minor": 5
}
