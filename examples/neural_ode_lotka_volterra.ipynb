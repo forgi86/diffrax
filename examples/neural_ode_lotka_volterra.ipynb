{
 "cells": [
  {
   "cell_type": "markdown",
   "id": "b16dfc76-0c78-416c-9565-c0825087a06a",
   "metadata": {},
   "source": [
    "# Neural ODE"
   ]
  },
  {
   "cell_type": "markdown",
   "id": "a8768437-4934-45d8-9d34-d0783e81cf94",
   "metadata": {},
   "source": [
    "System identification on a possibly sparse dataset of autonomous ODEs"
   ]
  },
  {
   "cell_type": "code",
   "execution_count": null,
   "id": "276cbbe5-dac1-4814-807c-e50cc633b11a",
   "metadata": {},
   "outputs": [],
   "source": [
    "import time\n",
    "from tqdm import tqdm\n",
    "import diffrax\n",
    "import equinox as eqx  # https://github.com/patrick-kidger/equinox\n",
    "import jax\n",
    "import jax.nn as jnn\n",
    "import jax.numpy as jnp\n",
    "import jax.random as jr\n",
    "import matplotlib.pyplot as plt\n",
    "import optax  # https://github.com/deepmind/optax"
   ]
  },
  {
   "cell_type": "code",
   "execution_count": null,
   "id": "a93792e1",
   "metadata": {},
   "outputs": [],
   "source": [
    "%matplotlib widget"
   ]
  },
  {
   "cell_type": "code",
   "execution_count": null,
   "id": "5bb31a86",
   "metadata": {},
   "outputs": [],
   "source": [
    "# data\n",
    "nx = 2\n",
    "dataset_size = 2_000 # number of sequences in the dataset\n",
    "seq_len = 40 # length of each sequence (number of time steps, sampling time is irregular)\n",
    "\n",
    "# model\n",
    "width_size=64\n",
    "depth=2\n",
    "\n",
    "# optimization\n",
    "batch_size = 32\n",
    "lr = 1e-3\n",
    "steps = 10_000\n",
    "\n",
    "# logging\n",
    "print_every = 100"
   ]
  },
  {
   "cell_type": "code",
   "execution_count": null,
   "id": "b1595e4b",
   "metadata": {},
   "outputs": [],
   "source": [
    "seed = 1234\n",
    "key = jr.PRNGKey(seed)\n",
    "ykey, tkey1, tkey2, model_key, loader_key = jr.split(key, 5)"
   ]
  },
  {
   "cell_type": "code",
   "execution_count": null,
   "id": "4b4fea1e",
   "metadata": {},
   "outputs": [],
   "source": [
    "# generate 40 irregularly-spaced time series from the Lotka-Volterra model\n",
    "\n",
    "y0 = 8*jr.uniform(ykey, (dataset_size, 2)) + 6\n",
    "\n",
    "t0 = 0\n",
    "t1 = 140 + jr.uniform(tkey1, (dataset_size,))\n",
    "ts = jr.uniform(tkey2, (dataset_size, seq_len)) * (t1[:, None] - t0) + t0\n",
    "ts = jnp.sort(ts)\n",
    "dt0 = 0.1\n",
    "args = (0.1, 0.02, 0.4, 0.02)\n",
    "\n",
    "def vector_field(t, y, args):\n",
    "    prey, predator = y    \n",
    "    α, β, γ, δ = args\n",
    "    d_prey = α * prey - β * prey * predator\n",
    "    d_predator = -γ * predator + δ * prey * predator\n",
    "    d_y = jnp.array([d_prey, d_predator])\n",
    "    return d_y\n",
    "\n",
    "def solve(ts, y0):\n",
    "    sol = diffrax.diffeqsolve(\n",
    "        diffrax.ODETerm(vector_field),\n",
    "        diffrax.Tsit5(),\n",
    "        ts[0],\n",
    "        ts[-1],\n",
    "        dt0,\n",
    "        y0,\n",
    "        saveat=diffrax.SaveAt(ts=ts),\n",
    "        args=args\n",
    "    )\n",
    "    return sol.ys\n",
    "\n",
    "ys = jax.vmap(solve)(ts, y0)\n",
    "\n",
    "ts.shape, ys.shape"
   ]
  },
  {
   "cell_type": "code",
   "execution_count": null,
   "id": "49d47660",
   "metadata": {},
   "outputs": [],
   "source": [
    "# normalize data\n",
    "\n",
    "mu = jnp.mean(jnp.mean(ys, axis=1), axis=0)#,\n",
    "std = jnp.mean(jnp.std(ys, axis=1), axis=0)\n",
    "ys = (ys - mu)/std"
   ]
  },
  {
   "cell_type": "code",
   "execution_count": null,
   "id": "2cdd60cf",
   "metadata": {},
   "outputs": [],
   "source": [
    "# plot some data\n",
    "plt.figure()\n",
    "plt.plot(ts[:4, :].T, ys[:4, :, 0].T, \"r--*\")\n",
    "plt.plot(ts[:4, :].T, ys[:4, :, 1].T, \"b--*\");"
   ]
  },
  {
   "cell_type": "code",
   "execution_count": null,
   "id": "243412cd-9f19-489f-a10e-bf0eb8bf3788",
   "metadata": {},
   "outputs": [],
   "source": [
    "class Func(eqx.Module):\n",
    "    mlp: eqx.nn.MLP\n",
    "\n",
    "    def __init__(self, data_size, width_size, depth, *, key, **kwargs):\n",
    "        super().__init__(**kwargs)\n",
    "        self.mlp = eqx.nn.MLP(\n",
    "            in_size=data_size,\n",
    "            out_size=data_size,\n",
    "            width_size=width_size,\n",
    "            depth=depth,\n",
    "            activation=jnn.softplus,\n",
    "            key=key,\n",
    "        )\n",
    "\n",
    "    def __call__(self, t, y, args):\n",
    "        return self.mlp(y) * 1e-3\n",
    "    \n",
    "class NeuralODE(eqx.Module):\n",
    "    func: Func\n",
    "\n",
    "    def __init__(self, data_size, width_size, depth, *, key, **kwargs):\n",
    "        super().__init__(**kwargs)\n",
    "        self.func = Func(data_size, width_size, depth, key=key)\n",
    "\n",
    "    def __call__(self, ts, y0):\n",
    "        solution = diffrax.diffeqsolve(\n",
    "            diffrax.ODETerm(self.func),\n",
    "            diffrax.Tsit5(),\n",
    "            t0=ts[0],\n",
    "            t1=ts[-1],\n",
    "            dt0=ts[1] - ts[0],\n",
    "            y0=y0,\n",
    "            stepsize_controller=diffrax.PIDController(rtol=1e-3, atol=1e-6),\n",
    "            saveat=diffrax.SaveAt(ts=ts),\n",
    "        )\n",
    "        return solution.ys"
   ]
  },
  {
   "cell_type": "code",
   "execution_count": null,
   "id": "6505387d-6900-401d-9ceb-b741f349f1e6",
   "metadata": {},
   "outputs": [],
   "source": [
    "def dataloader(arrays, batch_size, *, key):\n",
    "    dataset_size = arrays[0].shape[0]\n",
    "    assert all(array.shape[0] == dataset_size for array in arrays)\n",
    "    indices = jnp.arange(dataset_size)\n",
    "    while True:\n",
    "        perm = jr.permutation(key, indices)\n",
    "        (key,) = jr.split(key, 1)\n",
    "        start = 0\n",
    "        end = batch_size\n",
    "        while end < dataset_size:\n",
    "            batch_perm = perm[start:end]\n",
    "            yield tuple(array[batch_perm] for array in arrays)\n",
    "            start = end\n",
    "            end = start + batch_size"
   ]
  },
  {
   "cell_type": "code",
   "execution_count": null,
   "id": "2f40c28f",
   "metadata": {},
   "outputs": [],
   "source": [
    "model = NeuralODE(nx, width_size, depth, key=model_key)"
   ]
  },
  {
   "cell_type": "code",
   "execution_count": null,
   "id": "014dcf24",
   "metadata": {},
   "outputs": [],
   "source": [
    "#optim = optax.adam(lr)\n",
    "optim = optax.adabelief(lr)\n",
    "opt_state = optim.init(eqx.filter(model, eqx.is_inexact_array))"
   ]
  },
  {
   "cell_type": "code",
   "execution_count": null,
   "id": "92a6b9ab",
   "metadata": {},
   "outputs": [],
   "source": [
    "@eqx.filter_value_and_grad\n",
    "def grad_loss(model, t, y):\n",
    "    y_pred = jax.vmap(model)(t, y[:, 0])\n",
    "    return jnp.mean((y - y_pred) ** 2)\n",
    "\n",
    "@eqx.filter_jit\n",
    "def make_step(ti, yi, model, opt_state):\n",
    "    loss, grads = grad_loss(model, ti, yi)\n",
    "    updates, opt_state = optim.update(grads, opt_state)\n",
    "    model = eqx.apply_updates(model, updates)\n",
    "    return loss, model, opt_state"
   ]
  },
  {
   "cell_type": "code",
   "execution_count": null,
   "id": "3ea937b7",
   "metadata": {},
   "outputs": [],
   "source": [
    "train_dl = dataloader((ts, ys), batch_size, key=loader_key)"
   ]
  },
  {
   "cell_type": "code",
   "execution_count": null,
   "id": "d33ceb1b",
   "metadata": {},
   "outputs": [],
   "source": [
    "LOSS = []\n",
    "pbar = tqdm(enumerate(train_dl),  total=steps)\n",
    "for step, (ts_batch, ys_batch) in pbar:\n",
    "    loss, model, opt_state = make_step(ts_batch, ys_batch, model, opt_state)\n",
    "\n",
    "    LOSS.append(loss)\n",
    "    if (step % print_every) == 0 or step == steps - 1:\n",
    "        pbar.set_postfix_str(f\"Step: {step}, Loss: {loss}\")\n",
    "    if step == steps - 1:\n",
    "        break\n",
    "    "
   ]
  },
  {
   "cell_type": "code",
   "execution_count": null,
   "id": "9c473ff1",
   "metadata": {},
   "outputs": [],
   "source": [
    "plt.figure()\n",
    "plt.plot(LOSS)"
   ]
  },
  {
   "cell_type": "code",
   "execution_count": null,
   "id": "0e0dab02",
   "metadata": {},
   "outputs": [],
   "source": [
    "val_ts, val_ys = next(train_dl)\n",
    "#jax.vmap(model)(val_ts, val_ys[:, 0])\n",
    "\n",
    "def dense_grid(ts):\n",
    "    return jnp.linspace(ts[0], ts[-1], 1000)\n",
    "\n",
    "val_ts_dense = jax.vmap(dense_grid)(val_ts)\n",
    "val_yhat_dense = jax.vmap(model)(val_ts_dense, val_ys[:, 0])\n",
    "\n",
    "idx = 10\n",
    "plt.figure()\n",
    "plt.plot(val_ts[idx], val_ys[idx, :, 0], \"r*\")\n",
    "plt.plot(val_ts_dense[idx], val_yhat_dense[idx, :, 0], \"r\")\n",
    "\n",
    "plt.plot(val_ts[idx], val_ys[idx, :, 1], \"b*\")\n",
    "plt.plot(val_ts_dense[idx], val_yhat_dense[idx, :, 1], \"b\")"
   ]
  }
 ],
 "metadata": {
  "kernelspec": {
   "display_name": "dev",
   "language": "python",
   "name": "python3"
  },
  "language_info": {
   "codemirror_mode": {
    "name": "ipython",
    "version": 3
   },
   "file_extension": ".py",
   "mimetype": "text/x-python",
   "name": "python",
   "nbconvert_exporter": "python",
   "pygments_lexer": "ipython3",
   "version": "3.11.9"
  }
 },
 "nbformat": 4,
 "nbformat_minor": 5
}
